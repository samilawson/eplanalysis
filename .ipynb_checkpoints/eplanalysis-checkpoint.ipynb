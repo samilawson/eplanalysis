{
 "cells": [
  {
   "cell_type": "markdown",
   "metadata": {
    "_uuid": "99d300c4aaeb3969fcf5261340cc8b68079ac816"
   },
   "source": [
    "This is some basic analysis of Premier League results based on [this](https://www.kaggle.com/jonathonv/football-matches-data-analysis) similar analysis. As such, some of the code below is not mine, but comes from that. Credit to the author. "
   ]
  },
  {
   "cell_type": "code",
   "execution_count": 1,
   "metadata": {
    "_cell_guid": "b1076dfc-b9ad-4769-8c92-a6c4dae69d19",
    "_kg_hide-input": true,
    "_uuid": "8f2839f25d086af736a60e9eeb907d3b93b6e0e5"
   },
   "outputs": [
    {
     "data": {
      "text/html": [
       "<div>\n",
       "<style scoped>\n",
       "    .dataframe tbody tr th:only-of-type {\n",
       "        vertical-align: middle;\n",
       "    }\n",
       "\n",
       "    .dataframe tbody tr th {\n",
       "        vertical-align: top;\n",
       "    }\n",
       "\n",
       "    .dataframe thead th {\n",
       "        text-align: right;\n",
       "    }\n",
       "</style>\n",
       "<table border=\"1\" class=\"dataframe\">\n",
       "  <thead>\n",
       "    <tr style=\"text-align: right;\">\n",
       "      <th></th>\n",
       "      <th>Div</th>\n",
       "      <th>Date</th>\n",
       "      <th>HomeTeam</th>\n",
       "      <th>AwayTeam</th>\n",
       "      <th>FTHG</th>\n",
       "      <th>FTAG</th>\n",
       "      <th>FTR</th>\n",
       "      <th>HTHG</th>\n",
       "      <th>HTAG</th>\n",
       "      <th>HTR</th>\n",
       "      <th>Season</th>\n",
       "    </tr>\n",
       "  </thead>\n",
       "  <tbody>\n",
       "    <tr>\n",
       "      <th>0</th>\n",
       "      <td>E0</td>\n",
       "      <td>14/08/93</td>\n",
       "      <td>Arsenal</td>\n",
       "      <td>Coventry</td>\n",
       "      <td>0</td>\n",
       "      <td>3</td>\n",
       "      <td>A</td>\n",
       "      <td>NaN</td>\n",
       "      <td>NaN</td>\n",
       "      <td>NaN</td>\n",
       "      <td>1993-94</td>\n",
       "    </tr>\n",
       "    <tr>\n",
       "      <th>1</th>\n",
       "      <td>E0</td>\n",
       "      <td>14/08/93</td>\n",
       "      <td>Aston Villa</td>\n",
       "      <td>QPR</td>\n",
       "      <td>4</td>\n",
       "      <td>1</td>\n",
       "      <td>H</td>\n",
       "      <td>NaN</td>\n",
       "      <td>NaN</td>\n",
       "      <td>NaN</td>\n",
       "      <td>1993-94</td>\n",
       "    </tr>\n",
       "    <tr>\n",
       "      <th>2</th>\n",
       "      <td>E0</td>\n",
       "      <td>14/08/93</td>\n",
       "      <td>Chelsea</td>\n",
       "      <td>Blackburn</td>\n",
       "      <td>1</td>\n",
       "      <td>2</td>\n",
       "      <td>A</td>\n",
       "      <td>NaN</td>\n",
       "      <td>NaN</td>\n",
       "      <td>NaN</td>\n",
       "      <td>1993-94</td>\n",
       "    </tr>\n",
       "    <tr>\n",
       "      <th>3</th>\n",
       "      <td>E0</td>\n",
       "      <td>14/08/93</td>\n",
       "      <td>Liverpool</td>\n",
       "      <td>Sheffield Weds</td>\n",
       "      <td>2</td>\n",
       "      <td>0</td>\n",
       "      <td>H</td>\n",
       "      <td>NaN</td>\n",
       "      <td>NaN</td>\n",
       "      <td>NaN</td>\n",
       "      <td>1993-94</td>\n",
       "    </tr>\n",
       "    <tr>\n",
       "      <th>4</th>\n",
       "      <td>E0</td>\n",
       "      <td>14/08/93</td>\n",
       "      <td>Man City</td>\n",
       "      <td>Leeds</td>\n",
       "      <td>1</td>\n",
       "      <td>1</td>\n",
       "      <td>D</td>\n",
       "      <td>NaN</td>\n",
       "      <td>NaN</td>\n",
       "      <td>NaN</td>\n",
       "      <td>1993-94</td>\n",
       "    </tr>\n",
       "  </tbody>\n",
       "</table>\n",
       "</div>"
      ],
      "text/plain": [
       "  Div      Date     HomeTeam        AwayTeam  FTHG  FTAG FTR  HTHG  HTAG  HTR  \\\n",
       "0  E0  14/08/93      Arsenal        Coventry     0     3   A   NaN   NaN  NaN   \n",
       "1  E0  14/08/93  Aston Villa             QPR     4     1   H   NaN   NaN  NaN   \n",
       "2  E0  14/08/93      Chelsea       Blackburn     1     2   A   NaN   NaN  NaN   \n",
       "3  E0  14/08/93    Liverpool  Sheffield Weds     2     0   H   NaN   NaN  NaN   \n",
       "4  E0  14/08/93     Man City           Leeds     1     1   D   NaN   NaN  NaN   \n",
       "\n",
       "    Season  \n",
       "0  1993-94  \n",
       "1  1993-94  \n",
       "2  1993-94  \n",
       "3  1993-94  \n",
       "4  1993-94  "
      ]
     },
     "execution_count": 1,
     "metadata": {},
     "output_type": "execute_result"
    }
   ],
   "source": [
    "# largely based on https://www.kaggle.com/jonathonv/football-matches-data-analysis, credit to the author for much of this code\n",
    "\n",
    "import pandas as pd\n",
    "import numpy as np\n",
    "import matplotlib.pyplot as plt\n",
    "import seaborn as sns\n",
    "\n",
    "df=pd.read_csv(\"./EPL_Set.csv\")\n",
    "len(df)\n",
    "df.head(5)\n"
   ]
  },
  {
   "cell_type": "markdown",
   "metadata": {
    "_uuid": "3c0e7d9baeb7c374dfa5ca86c3b9add81cebc33b"
   },
   "source": [
    "You'll see above that some columns contain NaN. The first two seasons did not have half time results recorded, however the set will be updated with those results in the future. \n"
   ]
  },
  {
   "cell_type": "markdown",
   "metadata": {
    "_uuid": "b07da1be238fb9cf941a7904e695d21327776b82"
   },
   "source": [
    "Next, we are going to create a results column that records whether the home team or away team won, or if there was a draw, accompanied by a pie chart."
   ]
  },
  {
   "cell_type": "code",
   "execution_count": 2,
   "metadata": {
    "_uuid": "5baa386c6843012b5e3cac92877b6ca810d1d3cf",
    "scrolled": false
   },
   "outputs": [
    {
     "data": {
      "text/plain": [
       "result\n",
       "draw       2546\n",
       "home       4461\n",
       "visitor    2657\n",
       "Name: result, dtype: int64"
      ]
     },
     "execution_count": 2,
     "metadata": {},
     "output_type": "execute_result"
    }
   ],
   "source": [
    "df['result'] = 'draw'\n",
    "df.loc[df['FTHG'] > df['FTAG'], 'result'] = 'home'\n",
    "df.loc[df['FTAG'] > df['FTHG'], 'result'] = 'visitor'\n",
    "df.groupby('result')['result'].count()"
   ]
  },
  {
   "cell_type": "code",
   "execution_count": 3,
   "metadata": {
    "_cell_guid": "79c7e3d0-c299-4dcb-8224-4455121ee9b0",
    "_uuid": "d629ff2d2480ee46fbb7e2d37f6b5fab8052498a"
   },
   "outputs": [
    {
     "data": {
      "text/plain": [
       "<matplotlib.axes._subplots.AxesSubplot at 0x1c05f6ba7b8>"
      ]
     },
     "execution_count": 3,
     "metadata": {},
     "output_type": "execute_result"
    },
    {
     "data": {
      "image/png": "[encoded data removed]",
      "text/plain": [
       "<Figure size 288x288 with 1 Axes>"
      ]
     },
     "metadata": {},
     "output_type": "display_data"
    }
   ],
   "source": [
    "df.groupby('result')['result'].count().plot(kind='pie', autopct='%1.1f%%', figsize=(4,4))"
   ]
  },
  {
   "cell_type": "markdown",
   "metadata": {
    "_uuid": "bd96d86358c8a91da9e44abe2ad89079ce46887f"
   },
   "source": [
    "Now we are going to examine the total goals per season over time using a line graph."
   ]
  },
  {
   "cell_type": "code",
   "execution_count": null,
   "metadata": {
    "_uuid": "e72b89a70e29de740b9da944b210ddb8578b733a",
    "collapsed": true
   },
   "outputs": [],
   "source": [
    "df['total_goals'] = df['FTAG'] + df['FTHG']\n",
    "df.groupby('Season')['total_goals'].sum().plot()"
   ]
  },
  {
   "cell_type": "markdown",
   "metadata": {
    "_uuid": "bccd7dddd8db5457d40072ee030ea18637037302"
   },
   "source": [
    "The total number of goals per season has gone down, due in part to the fact that the number of games per season has decreased since the earlier stages of the league."
   ]
  },
  {
   "cell_type": "code",
   "execution_count": null,
   "metadata": {
    "_uuid": "ecd89e75beb86051f326ae9ac208ee96915e6ae5",
    "collapsed": true
   },
   "outputs": [],
   "source": [
    "# show the number of unique teams that have played in the PL\n",
    "df['HomeTeam'].nunique()"
   ]
  },
  {
   "cell_type": "markdown",
   "metadata": {
    "_uuid": "1d253f9566341cffd29e00c22a8406bd9a50706f"
   },
   "source": [
    "Next, the number of goals per game per season."
   ]
  },
  {
   "cell_type": "code",
   "execution_count": null,
   "metadata": {
    "_uuid": "8a76a8803b8e35334d7a9ac7bd4f4ffd87a68f49"
   },
   "outputs": [],
   "source": [
    "# show average goals per game per season\n",
    "ab = df.groupby('Season')['total_goals'].mean().plot(kind=\"bar\", title=\"Avg. Goals Per Game Per Season\", figsize=(12, 8))\n",
    "ab.set_xlabel(\"Season\")\n",
    "ab.set_ylabel(\"Average Goals\")"
   ]
  },
  {
   "cell_type": "markdown",
   "metadata": {
    "_uuid": "742747e48e1a79834c766130aa9a563d810766a4"
   },
   "source": [
    "Below are the number of games per month and day, as well as the average number of goals scored on the month/day per season."
   ]
  },
  {
   "cell_type": "code",
   "execution_count": null,
   "metadata": {
    "_uuid": "b9b897111a009828c8df2701aa91b9b15bfc5633",
    "collapsed": true
   },
   "outputs": [],
   "source": [
    "# determine number of games per month and day\n",
    "df['game_date'] = pd.to_datetime(df['Date'])\n",
    "df['game_month'] = df['game_date'].dt.month\n",
    "df['game_weekday'] = df['game_date'].dt.weekday\n",
    "# by month\n",
    "df.groupby([df['game_date'].dt.month])[\"Div\"].count().plot(kind='bar')"
   ]
  },
  {
   "cell_type": "code",
   "execution_count": null,
   "metadata": {
    "_uuid": "f3a4a703e2d085f64b5ccad7fa9d6194b2fa79ca",
    "collapsed": true
   },
   "outputs": [],
   "source": [
    "# by week day - most games are on saturday\n",
    "df.groupby('game_weekday')['Div'].count().plot(kind='bar')\n",
    "# where 0 = monday and so forth"
   ]
  },
  {
   "cell_type": "code",
   "execution_count": null,
   "metadata": {
    "_uuid": "54fa872d1354b9bafc955dfa40c424bd3898038a",
    "collapsed": true
   },
   "outputs": [],
   "source": [
    "# Goals per month\n",
    "sns.boxplot(x='game_month', y='total_goals', data=df)"
   ]
  },
  {
   "cell_type": "code",
   "execution_count": null,
   "metadata": {
    "_uuid": "1c9abe1c1ac8c79a6753d90f537466e500646773",
    "collapsed": true
   },
   "outputs": [],
   "source": [
    "# Goals per gameday\n",
    "sns.boxplot(x='game_weekday', y='total_goals', data=df)"
   ]
  },
  {
   "cell_type": "markdown",
   "metadata": {
    "_uuid": "9413e55571e81dcdcbc45dd7089e51921513c63a"
   },
   "source": [
    "Next we will examine the home and away wins per team and chart them."
   ]
  },
  {
   "cell_type": "code",
   "execution_count": null,
   "metadata": {
    "_kg_hide-output": false,
    "_uuid": "1dd8d37298a2932d6fb9c3fb31e11e1e42e19e34",
    "collapsed": true
   },
   "outputs": [],
   "source": [
    "# How many home and visitor wins added as new columns\n",
    "df = df.merge(pd.get_dummies(df['result']), left_index=True, right_index=True)\n",
    "df['home_wins_this_season'] = df.groupby(['Season','HomeTeam'])['home'].transform('sum')\n",
    "df['visitor_wins_this_season'] = df.groupby(['Season','AwayTeam'])['visitor'].transform('sum')"
   ]
  },
  {
   "cell_type": "code",
   "execution_count": null,
   "metadata": {
    "_uuid": "134eb10aac0eb60678138efc9035967156f754ed",
    "collapsed": true
   },
   "outputs": [],
   "source": [
    "# Which teams win the most home games on average \n",
    "(\n",
    "    df.groupby(['HomeTeam'])['home_wins_this_season']\n",
    "    .agg(['count','mean'])\n",
    "    .sort_values(ascending=False, by='mean')\n",
    "    .round(1)\n",
    "    .head(10)\n",
    ")"
   ]
  },
  {
   "cell_type": "code",
   "execution_count": null,
   "metadata": {
    "_uuid": "6921cd6fb4a4db61e25a027e1441e6f7a654d6ab",
    "collapsed": true
   },
   "outputs": [],
   "source": [
    "# Which teams win the most away games on average\n",
    "(\n",
    "    df.groupby(['AwayTeam'])['visitor_wins_this_season']\n",
    "    .agg(['count','mean'])\n",
    "    .sort_values(ascending=False, by='mean')\n",
    "    .round(1)\n",
    "    .head(10)\n",
    ")"
   ]
  },
  {
   "cell_type": "code",
   "execution_count": null,
   "metadata": {
    "_uuid": "dd032686c944b0af58faaf62223cf55789ce13ef",
    "collapsed": true
   },
   "outputs": [],
   "source": [
    "# tally up the results \n",
    "visitor_results = (df\n",
    "                   .groupby(['Season', 'AwayTeam'])['visitor']\n",
    "                   .sum()\n",
    "                   .reset_index()\n",
    "                   .rename(columns={'AwayTeam': 'team',\n",
    "                                    'visitor': 'visitor_wins'}))\n",
    "\n",
    "home_results = (df\n",
    "                 .groupby(['Season', 'HomeTeam'])['home']\n",
    "                 .sum()\n",
    "                 .reset_index()\n",
    "                 .rename(columns={'HomeTeam': 'team',\n",
    "                                  'home': 'home_wins'}))\n",
    "\n",
    "wins_per_season = visitor_results.merge(home_results, on=['Season', 'team'])\n",
    "\n",
    "wins_per_season['total_wins'] = wins_per_season['visitor_wins'] + wins_per_season['home_wins']\n",
    "wins_per_season.head(5)"
   ]
  },
  {
   "cell_type": "code",
   "execution_count": null,
   "metadata": {
    "_uuid": "d1515e1ec0d40a89bf3672387b402011f3c8237c",
    "collapsed": true
   },
   "outputs": [],
   "source": [
    "# Make a heatmap of wins over time\n",
    "total_wins_sorted_desc = (wins_per_season\n",
    "                          .groupby(['team'])['total_wins']\n",
    "                          .sum()\n",
    "                          .sort_values(ascending=False)\n",
    "                          .reset_index()['team'])\n",
    "\n",
    "wins_per_season_pivot = (wins_per_season\n",
    "                         .pivot_table(index='team',\n",
    "                                      columns='Season',\n",
    "                                      values='total_wins')\n",
    "                         .fillna(0)\n",
    "                         .reindex(total_wins_sorted_desc))\n",
    "\n",
    "plt.figure(figsize=(10, 20))\n",
    "sns.heatmap(wins_per_season_pivot, cmap='viridis')"
   ]
  },
  {
   "cell_type": "code",
   "execution_count": null,
   "metadata": {
    "_uuid": "31432f021d48cf8df1c2b0755828c7071434ece1",
    "collapsed": true
   },
   "outputs": [],
   "source": [
    "# showing dot plot of wins per team per home/away\n",
    "sns.set(style=\"whitegrid\")\n",
    "wps = wins_per_season.groupby(['team'])['total_wins','home_wins','visitor_wins'].sum().reset_index()\n",
    "g = sns.PairGrid(wps.sort_values(\"total_wins\", ascending=False),\n",
    "                 x_vars=wps.columns[1:], y_vars=[\"team\"],\n",
    "                 size=10, aspect=.25)\n",
    "\n",
    "# Draw a dot plot using the stripplot function\n",
    "g.map(sns.stripplot, size=10, orient=\"h\",\n",
    "      palette=\"Reds_r\", edgecolor=\"gray\")\n",
    "\n",
    "# Use the same x axis limits on all columns and add better labels\n",
    "g.set(xlabel=\"Wins\", ylabel=\"\")\n",
    "\n",
    "# Add titles for the columns\n",
    "titles = [\"Total Wins\", \"Home Wins\", \"Away Wins\"]\n",
    "\n",
    "for ax, title in zip(g.axes.flat, titles):\n",
    "\n",
    "    # Set a different title for each axes\n",
    "    ax.set(title=title)\n",
    "\n",
    "    # Make the grid horizontal instead of vertical\n",
    "    ax.xaxis.grid(False)\n",
    "    ax.yaxis.grid(True)\n",
    "\n",
    "sns.despine(left=True, bottom=True)"
   ]
  }
 ],
 "metadata": {
  "kernelspec": {
   "display_name": "Python 3",
   "language": "python",
   "name": "python3"
  },
  "language_info": {
   "codemirror_mode": {
    "name": "ipython",
    "version": 3
   },
   "file_extension": ".py",
   "mimetype": "text/x-python",
   "name": "python",
   "nbconvert_exporter": "python",
   "pygments_lexer": "ipython3",
   "version": "3.6.5"
  }
 },
 "nbformat": 4,
 "nbformat_minor": 1
}
